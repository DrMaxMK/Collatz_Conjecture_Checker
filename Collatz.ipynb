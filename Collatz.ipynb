{
 "cells": [
  {
   "cell_type": "code",
   "execution_count": 50,
   "id": "780aa5f9-303f-4ca5-872e-861356b023f6",
   "metadata": {},
   "outputs": [],
   "source": [
    "# Just Testing and stuff but just here for historical value \n",
    "# the actuall running code is in the .py file"
   ]
  },
  {
   "cell_type": "code",
   "execution_count": null,
   "id": "426cf1f4-5f46-4d36-a8e1-dcf6ab258c26",
   "metadata": {},
   "outputs": [],
   "source": [
    "import matplotlib.pyplot as plt\n",
    "import numpy as np"
   ]
  },
  {
   "cell_type": "markdown",
   "id": "4cd2abf4-c722-4568-a9a5-512cfbac4a42",
   "metadata": {},
   "source": [
    "# Basics"
   ]
  },
  {
   "cell_type": "code",
   "execution_count": 56,
   "id": "f80a81d1-53c7-4ece-8e12-4e074b28bfc5",
   "metadata": {},
   "outputs": [],
   "source": [
    "def cstep(n):\n",
    "    if n % 2 == 0:\n",
    "        return n/2\n",
    "    else:\n",
    "        return 3*n+1"
   ]
  },
  {
   "cell_type": "code",
   "execution_count": 4,
   "id": "64af8c84-bfe8-46ae-9bc2-3e869cd797d5",
   "metadata": {},
   "outputs": [],
   "source": [
    "def cfull(n):\n",
    "    i=0\n",
    "    while n > 2: #could just check if ==2**x but thats probably harder\n",
    "        # idea: log_2 % 1 ==0 as 1.5%1=0.5..\n",
    "        n = cstep(n)\n",
    "        i = i+1\n",
    "    return i"
   ]
  },
  {
   "cell_type": "code",
   "execution_count": 5,
   "id": "ed981c41-f927-4a45-ac82-a811d9ddb2da",
   "metadata": {},
   "outputs": [],
   "source": [
    "maxn = 250\n",
    "x = np.linspace(1, maxn, maxn, dtype=\"int\")\n",
    "y = [cfull(i) for i in x]"
   ]
  },
  {
   "cell_type": "code",
   "execution_count": 6,
   "id": "a72fd923-76d6-4eef-94e2-0da6a8000087",
   "metadata": {},
   "outputs": [
    {
     "data": {
      "text/plain": [
       "<matplotlib.collections.PathCollection at 0x7fc00c63e610>"
      ]
     },
     "execution_count": 6,
     "metadata": {},
     "output_type": "execute_result"
    },
    {
     "data": {
      "image/png": "[encoded data removed]",
      "text/plain": [
       "<Figure size 432x288 with 1 Axes>"
      ]
     },
     "metadata": {
      "needs_background": "light"
     },
     "output_type": "display_data"
    }
   ],
   "source": [
    "plt.scatter(x, y, marker=\".\")\n",
    "#looks like on wikipedia so nice la"
   ]
  },
  {
   "cell_type": "code",
   "execution_count": 7,
   "id": "fb53a18b-fe19-43cb-a77e-068df9204066",
   "metadata": {},
   "outputs": [
    {
     "name": "stdout",
     "output_type": "stream",
     "text": [
      "2.65 ms ± 14.1 µs per loop (mean ± std. dev. of 7 runs, 100 loops each)\n"
     ]
    }
   ],
   "source": [
    "%%timeit\n",
    "maxn = 100\n",
    "x = np.linspace(1, maxn, maxn, dtype=\"int\")\n",
    "y = [cfull(i) for i in x] #not efficient"
   ]
  },
  {
   "cell_type": "code",
   "execution_count": 9,
   "id": "4f2b97e0-2ecb-46f2-b874-bc3f26efd7fd",
   "metadata": {},
   "outputs": [
    {
     "data": {
      "text/plain": [
       "Text(0.5, 1.0, 'looks O(n)')"
      ]
     },
     "execution_count": 9,
     "metadata": {},
     "output_type": "execute_result"
    },
    {
     "data": {
      "image/png": "[encoded data removed]",
      "text/plain": [
       "<Figure size 432x288 with 1 Axes>"
      ]
     },
     "metadata": {
      "needs_background": "light"
     },
     "output_type": "display_data"
    }
   ],
   "source": [
    "plt.scatter([1e1, 1e2, 1e3, 5e3, 1e4, 1e5], [0.08, 2.5, 49,327, 704, 9100])\n",
    "plt.xscale(\"log\")\n",
    "plt.yscale(\"log\")\n",
    "plt.ylabel(\"calculation time in ms\")\n",
    "plt.xlabel(r'n_{max}')\n",
    "plt.title(\"looks O(n)\")"
   ]
  },
  {
   "cell_type": "markdown",
   "id": "4af1fe21-2ef6-40da-9690-ea8e7e14a841",
   "metadata": {},
   "source": [
    "# Tests"
   ]
  },
  {
   "cell_type": "code",
   "execution_count": 80,
   "id": "7768437e-e87c-410f-a917-c4745af52794",
   "metadata": {},
   "outputs": [],
   "source": [
    "def c_checker(n):\n",
    "    # pastvals=[cstep(maxTest+2**16-3)] a possible test\n",
    "    pastvals = []\n",
    "    i=0\n",
    "    while n > 2: #could just check if ==2**x but thats probably harder\n",
    "        # idea: log_2 % 1 ==0 as 1.5%1=0.5..\n",
    "        n = cstep(n)\n",
    "        if n in pastvals:\n",
    "            return True, n\n",
    "        pastvals.append(n)\n",
    "        i = i+1 \n",
    "        if i>1e6:\n",
    "            print(\"might be diverging\")\n",
    "            return True, n \n",
    "    return False, i"
   ]
  },
  {
   "cell_type": "code",
   "execution_count": 81,
   "id": "f1af171f-cb1b-459d-8c13-8c5e1ece3ff2",
   "metadata": {},
   "outputs": [],
   "source": [
    "def c_checker_arr(x, intrvl):\n",
    "    i=0\n",
    "    while (c_checker(x[i])[0]==False) & (i<intrvl-1):\n",
    "        i = i+1\n",
    "    if i==intrvl-1:\n",
    "        print(\"done\")\n",
    "    else:\n",
    "        print(\"YO number is:\", x[i], \"and loop at: \", c_checker(x[i])[1])"
   ]
  },
  {
   "cell_type": "code",
   "execution_count": 13,
   "id": "b02089e4-f875-4093-aa52-30d558e79fc9",
   "metadata": {},
   "outputs": [],
   "source": [
    "maxTest = 2**68\n",
    "MaxTest = 2**120\n",
    "intrvl = 2**16\n",
    "intrvl = 2**2\n",
    "\n",
    "x = np.arange(maxTest, maxTest+intrvl)"
   ]
  },
  {
   "cell_type": "code",
   "execution_count": 14,
   "id": "c74806ba-0a1b-4d93-b1f4-035264c8d863",
   "metadata": {},
   "outputs": [
    {
     "name": "stdout",
     "output_type": "stream",
     "text": [
      "done\n"
     ]
    }
   ],
   "source": [
    "c_checker_arr(x, intrvl)"
   ]
  },
  {
   "cell_type": "code",
   "execution_count": 15,
   "id": "a180b775-d3af-49c5-b03a-3f87bf12f757",
   "metadata": {},
   "outputs": [],
   "source": [
    "# automation idea (possibly kiessler as third author..)\n",
    "#vector = range(i*10, (i+1) * 10)\n",
    "#i=1\n",
    "#while (f(vector)==1):\n",
    "#    i = i+1\n",
    "#    vector = range(i*10, (i+1) * 10)\n",
    "#f(vector)"
   ]
  },
  {
   "cell_type": "markdown",
   "id": "d092c901-f60a-4b55-aae3-da9ecc9a587f",
   "metadata": {},
   "source": [
    "# ideas\n",
    "interval 2**24 took a long ass time...\n",
    "\n",
    "could make automatic intervall changing so goto next intervall after one is finished\n",
    "\n",
    "could to progression prints after every quarter or tenth of any intervall"
   ]
  },
  {
   "cell_type": "markdown",
   "id": "7f98aa41-944f-4416-a0a1-ce05dd9c101b",
   "metadata": {},
   "source": [
    "# Automation"
   ]
  },
  {
   "cell_type": "code",
   "execution_count": 82,
   "id": "7f9ff6ec-732f-41ae-858b-9fbf729eddea",
   "metadata": {},
   "outputs": [],
   "source": [
    "import json\n",
    "f = open(\"progress.json\",\"r\")\n",
    "dat = json.loads(f.read())\n",
    "current_no = dat[\"Current\"]\n",
    "intrvl = dat[\"Interval\"]"
   ]
  },
  {
   "cell_type": "code",
   "execution_count": 83,
   "id": "28c306b4-8a98-427a-9b78-4625ba2a2a97",
   "metadata": {},
   "outputs": [],
   "source": [
    "x_arr = np.arange(current_no, current_no+intrvl)"
   ]
  },
  {
   "cell_type": "code",
   "execution_count": 84,
   "id": "8f1f4ad1-6d22-41d5-95b8-203ccd411977",
   "metadata": {},
   "outputs": [
    {
     "name": "stdout",
     "output_type": "stream",
     "text": [
      "done\n"
     ]
    }
   ],
   "source": [
    "c_checker_arr(x_arr, intrvl)"
   ]
  },
  {
   "cell_type": "code",
   "execution_count": 87,
   "id": "b8e5da54-8ca2-44b4-b0b1-f9462e56ccc6",
   "metadata": {},
   "outputs": [],
   "source": [
    "current_new = current_no+intrvl-1"
   ]
  },
  {
   "cell_type": "code",
   "execution_count": 90,
   "id": "a6a42204-57da-41fb-b1d0-f3cb3bac0c61",
   "metadata": {},
   "outputs": [],
   "source": [
    "# load json module\n",
    "import json\n",
    "\n",
    "# python dictionary with key value pairs\n",
    "dict = {'Start' : 2**120, 'Interval' : 2**16, 'Current' : current_new}\n",
    "\n",
    "# create json object from dictionary\n",
    "jsondat = json.dumps(dict)\n",
    "\n",
    "# open file for writing, \"w\" \n",
    "f = open(\"progress.json\",\"w\")\n",
    "\n",
    "# write json object to file\n",
    "f.write(jsondat)\n",
    "\n",
    "# close file\n",
    "f.close()"
   ]
  },
  {
   "cell_type": "code",
   "execution_count": null,
   "id": "04a8d3fa-e404-45e8-a5dc-4d9a2b988ce5",
   "metadata": {},
   "outputs": [],
   "source": []
  },
  {
   "cell_type": "code",
   "execution_count": null,
   "id": "002dfebf-46b9-4acf-8ff8-1b6546b871bb",
   "metadata": {},
   "outputs": [],
   "source": []
  },
  {
   "cell_type": "code",
   "execution_count": 91,
   "id": "36be7a9c-85ca-49b1-bfe6-121d50334473",
   "metadata": {},
   "outputs": [
    {
     "name": "stdout",
     "output_type": "stream",
     "text": [
      "done\n",
      "1329227995784915872903807060280410174\n",
      "done\n",
      "1329227995784915872903807060280475709\n",
      "done\n",
      "1329227995784915872903807060280541244\n"
     ]
    }
   ],
   "source": [
    "# all together\n",
    "i=0\n",
    "while(1):\n",
    "    # load data\n",
    "\n",
    "    f = open(\"progress.json\",\"r\")\n",
    "    dat = json.loads(f.read())\n",
    "    current_no = dat[\"Current\"]\n",
    "    intrvl = dat[\"Interval\"]\n",
    "    f.close()\n",
    "\n",
    "    # execute  collatz test\n",
    "\n",
    "    x_arr = np.arange(current_no, current_no+intrvl)\n",
    "\n",
    "    c_checker_arr(x_arr, intrvl)\n",
    "\n",
    "    current_new = current_no+intrvl-1\n",
    "    print(current_new)\n",
    "\n",
    "\n",
    "    # save data\n",
    "\n",
    "\n",
    "    dict = {'Start' : 2**120, 'Interval' : 2**16, 'Current' : current_new}\n",
    "\n",
    "    jsondat = json.dumps(dict)\n",
    "\n",
    "    f = open(\"progress.json\",\"w\") # w for write, r for read\n",
    "\n",
    "    f.write(jsondat)\n",
    "\n",
    "    f.close()\n",
    "    i=i+1\n",
    "    if i > 2:\n",
    "        break"
   ]
  },
  {
   "cell_type": "code",
   "execution_count": 93,
   "id": "414a4c93-5ac6-429b-a79b-839efe0e5e3f",
   "metadata": {},
   "outputs": [
    {
     "data": {
      "text/plain": [
       "1"
      ]
     },
     "execution_count": 93,
     "metadata": {},
     "output_type": "execute_result"
    }
   ],
   "source": [
    "1329227995784915872903807060280410174 - 1329227995784915872903807060280475709 + 2**16"
   ]
  },
  {
   "cell_type": "markdown",
   "id": "3ff9aa3d-c010-4eb7-8ca0-d71570cb9f9c",
   "metadata": {},
   "source": [
    "# optimisation"
   ]
  },
  {
   "cell_type": "code",
   "execution_count": 17,
   "id": "cffbe665-0c66-48a3-9dea-37a4d8a7380d",
   "metadata": {},
   "outputs": [
    {
     "data": {
      "text/plain": [
       "7.224719895935548"
      ]
     },
     "execution_count": 17,
     "metadata": {},
     "output_type": "execute_result"
    }
   ],
   "source": [
    "np.log10(2**24)"
   ]
  },
  {
   "cell_type": "code",
   "execution_count": 18,
   "id": "237a5c5a-5083-4b0f-aa3f-fdc2daf73630",
   "metadata": {},
   "outputs": [
    {
     "name": "stdout",
     "output_type": "stream",
     "text": [
      "121 µs ± 345 ns per loop (mean ± std. dev. of 7 runs, 10000 loops each)\n"
     ]
    }
   ],
   "source": [
    "%%timeit\n",
    "cfull(1234123412341234123434121351351313513135)"
   ]
  },
  {
   "cell_type": "code",
   "execution_count": 19,
   "id": "5fe0f08d-d1df-468e-93da-3706a27ab152",
   "metadata": {},
   "outputs": [
    {
     "name": "stdout",
     "output_type": "stream",
     "text": [
      "908 µs ± 2.31 µs per loop (mean ± std. dev. of 7 runs, 1000 loops each)\n"
     ]
    }
   ],
   "source": [
    "%%timeit\n",
    "c_checker(1234123412341234123434121351351313513135)"
   ]
  },
  {
   "cell_type": "markdown",
   "id": "c000adac-ef66-453c-974e-8b1e8c6372e8",
   "metadata": {},
   "source": [
    "a factor of 9 does not motivate to rewrite c_checker. it being slower makes sense. if this were much slower I could just use the divergence condition as a check. "
   ]
  },
  {
   "cell_type": "code",
   "execution_count": null,
   "id": "2fbc1248-7f0a-45e6-bb8b-0c51b8aa6499",
   "metadata": {},
   "outputs": [],
   "source": []
  }
 ],
 "metadata": {
  "kernelspec": {
   "display_name": "Python 3",
   "language": "python",
   "name": "python3"
  },
  "language_info": {
   "codemirror_mode": {
    "name": "ipython",
    "version": 3
   },
   "file_extension": ".py",
   "mimetype": "text/x-python",
   "name": "python",
   "nbconvert_exporter": "python",
   "pygments_lexer": "ipython3",
   "version": "3.9.5"
  }
 },
 "nbformat": 4,
 "nbformat_minor": 5
}
